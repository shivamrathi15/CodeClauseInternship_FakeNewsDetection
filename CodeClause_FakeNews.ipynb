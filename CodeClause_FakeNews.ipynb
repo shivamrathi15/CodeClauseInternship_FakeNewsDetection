{
 "cells": [
  {
   "cell_type": "code",
   "execution_count": 3,
   "metadata": {},
   "outputs": [],
   "source": [
    "import matplotlib.pyplot as plt\n",
    "import seaborn as sns\n",
    "import pandas as pd"
   ]
  },
  {
   "cell_type": "code",
   "execution_count": 6,
   "metadata": {},
   "outputs": [],
   "source": [
    "fake_data = pd.read_csv(\"Fake.csv\")\n",
    "true_data = pd.read_csv(\"True.csv\")\n"
   ]
  },
  {
   "cell_type": "code",
   "execution_count": 7,
   "metadata": {},
   "outputs": [
    {
     "data": {
      "text/html": [
       "<div>\n",
       "<style scoped>\n",
       "    .dataframe tbody tr th:only-of-type {\n",
       "        vertical-align: middle;\n",
       "    }\n",
       "\n",
       "    .dataframe tbody tr th {\n",
       "        vertical-align: top;\n",
       "    }\n",
       "\n",
       "    .dataframe thead th {\n",
       "        text-align: right;\n",
       "    }\n",
       "</style>\n",
       "<table border=\"1\" class=\"dataframe\">\n",
       "  <thead>\n",
       "    <tr style=\"text-align: right;\">\n",
       "      <th></th>\n",
       "      <th>title</th>\n",
       "      <th>text</th>\n",
       "      <th>subject</th>\n",
       "      <th>date</th>\n",
       "    </tr>\n",
       "  </thead>\n",
       "  <tbody>\n",
       "    <tr>\n",
       "      <th>0</th>\n",
       "      <td>Donald Trump Sends Out Embarrassing New Year’...</td>\n",
       "      <td>Donald Trump just couldn t wish all Americans ...</td>\n",
       "      <td>News</td>\n",
       "      <td>December 31, 2017</td>\n",
       "    </tr>\n",
       "    <tr>\n",
       "      <th>1</th>\n",
       "      <td>Drunk Bragging Trump Staffer Started Russian ...</td>\n",
       "      <td>House Intelligence Committee Chairman Devin Nu...</td>\n",
       "      <td>News</td>\n",
       "      <td>December 31, 2017</td>\n",
       "    </tr>\n",
       "    <tr>\n",
       "      <th>2</th>\n",
       "      <td>Sheriff David Clarke Becomes An Internet Joke...</td>\n",
       "      <td>On Friday, it was revealed that former Milwauk...</td>\n",
       "      <td>News</td>\n",
       "      <td>December 30, 2017</td>\n",
       "    </tr>\n",
       "    <tr>\n",
       "      <th>3</th>\n",
       "      <td>Trump Is So Obsessed He Even Has Obama’s Name...</td>\n",
       "      <td>On Christmas day, Donald Trump announced that ...</td>\n",
       "      <td>News</td>\n",
       "      <td>December 29, 2017</td>\n",
       "    </tr>\n",
       "    <tr>\n",
       "      <th>4</th>\n",
       "      <td>Pope Francis Just Called Out Donald Trump Dur...</td>\n",
       "      <td>Pope Francis used his annual Christmas Day mes...</td>\n",
       "      <td>News</td>\n",
       "      <td>December 25, 2017</td>\n",
       "    </tr>\n",
       "  </tbody>\n",
       "</table>\n",
       "</div>"
      ],
      "text/plain": [
       "                                               title  \\\n",
       "0   Donald Trump Sends Out Embarrassing New Year’...   \n",
       "1   Drunk Bragging Trump Staffer Started Russian ...   \n",
       "2   Sheriff David Clarke Becomes An Internet Joke...   \n",
       "3   Trump Is So Obsessed He Even Has Obama’s Name...   \n",
       "4   Pope Francis Just Called Out Donald Trump Dur...   \n",
       "\n",
       "                                                text subject  \\\n",
       "0  Donald Trump just couldn t wish all Americans ...    News   \n",
       "1  House Intelligence Committee Chairman Devin Nu...    News   \n",
       "2  On Friday, it was revealed that former Milwauk...    News   \n",
       "3  On Christmas day, Donald Trump announced that ...    News   \n",
       "4  Pope Francis used his annual Christmas Day mes...    News   \n",
       "\n",
       "                date  \n",
       "0  December 31, 2017  \n",
       "1  December 31, 2017  \n",
       "2  December 30, 2017  \n",
       "3  December 29, 2017  \n",
       "4  December 25, 2017  "
      ]
     },
     "execution_count": 7,
     "metadata": {},
     "output_type": "execute_result"
    }
   ],
   "source": [
    "fake_data.head()\n"
   ]
  },
  {
   "cell_type": "code",
   "execution_count": 8,
   "metadata": {},
   "outputs": [
    {
     "data": {
      "text/html": [
       "<div>\n",
       "<style scoped>\n",
       "    .dataframe tbody tr th:only-of-type {\n",
       "        vertical-align: middle;\n",
       "    }\n",
       "\n",
       "    .dataframe tbody tr th {\n",
       "        vertical-align: top;\n",
       "    }\n",
       "\n",
       "    .dataframe thead th {\n",
       "        text-align: right;\n",
       "    }\n",
       "</style>\n",
       "<table border=\"1\" class=\"dataframe\">\n",
       "  <thead>\n",
       "    <tr style=\"text-align: right;\">\n",
       "      <th></th>\n",
       "      <th>title</th>\n",
       "      <th>text</th>\n",
       "      <th>subject</th>\n",
       "      <th>date</th>\n",
       "    </tr>\n",
       "  </thead>\n",
       "  <tbody>\n",
       "    <tr>\n",
       "      <th>0</th>\n",
       "      <td>As U.S. budget fight looms, Republicans flip t...</td>\n",
       "      <td>WASHINGTON (Reuters) - The head of a conservat...</td>\n",
       "      <td>politicsNews</td>\n",
       "      <td>December 31, 2017</td>\n",
       "    </tr>\n",
       "    <tr>\n",
       "      <th>1</th>\n",
       "      <td>U.S. military to accept transgender recruits o...</td>\n",
       "      <td>WASHINGTON (Reuters) - Transgender people will...</td>\n",
       "      <td>politicsNews</td>\n",
       "      <td>December 29, 2017</td>\n",
       "    </tr>\n",
       "    <tr>\n",
       "      <th>2</th>\n",
       "      <td>Senior U.S. Republican senator: 'Let Mr. Muell...</td>\n",
       "      <td>WASHINGTON (Reuters) - The special counsel inv...</td>\n",
       "      <td>politicsNews</td>\n",
       "      <td>December 31, 2017</td>\n",
       "    </tr>\n",
       "    <tr>\n",
       "      <th>3</th>\n",
       "      <td>FBI Russia probe helped by Australian diplomat...</td>\n",
       "      <td>WASHINGTON (Reuters) - Trump campaign adviser ...</td>\n",
       "      <td>politicsNews</td>\n",
       "      <td>December 30, 2017</td>\n",
       "    </tr>\n",
       "    <tr>\n",
       "      <th>4</th>\n",
       "      <td>Trump wants Postal Service to charge 'much mor...</td>\n",
       "      <td>SEATTLE/WASHINGTON (Reuters) - President Donal...</td>\n",
       "      <td>politicsNews</td>\n",
       "      <td>December 29, 2017</td>\n",
       "    </tr>\n",
       "  </tbody>\n",
       "</table>\n",
       "</div>"
      ],
      "text/plain": [
       "                                               title  \\\n",
       "0  As U.S. budget fight looms, Republicans flip t...   \n",
       "1  U.S. military to accept transgender recruits o...   \n",
       "2  Senior U.S. Republican senator: 'Let Mr. Muell...   \n",
       "3  FBI Russia probe helped by Australian diplomat...   \n",
       "4  Trump wants Postal Service to charge 'much mor...   \n",
       "\n",
       "                                                text       subject  \\\n",
       "0  WASHINGTON (Reuters) - The head of a conservat...  politicsNews   \n",
       "1  WASHINGTON (Reuters) - Transgender people will...  politicsNews   \n",
       "2  WASHINGTON (Reuters) - The special counsel inv...  politicsNews   \n",
       "3  WASHINGTON (Reuters) - Trump campaign adviser ...  politicsNews   \n",
       "4  SEATTLE/WASHINGTON (Reuters) - President Donal...  politicsNews   \n",
       "\n",
       "                 date  \n",
       "0  December 31, 2017   \n",
       "1  December 29, 2017   \n",
       "2  December 31, 2017   \n",
       "3  December 30, 2017   \n",
       "4  December 29, 2017   "
      ]
     },
     "execution_count": 8,
     "metadata": {},
     "output_type": "execute_result"
    }
   ],
   "source": [
    "true_data.head()\n"
   ]
  },
  {
   "cell_type": "code",
   "execution_count": 9,
   "metadata": {},
   "outputs": [
    {
     "data": {
      "text/plain": [
       "title      0\n",
       "text       0\n",
       "subject    0\n",
       "date       0\n",
       "dtype: int64"
      ]
     },
     "execution_count": 9,
     "metadata": {},
     "output_type": "execute_result"
    }
   ],
   "source": [
    "true_data.isna().sum()\n"
   ]
  },
  {
   "cell_type": "code",
   "execution_count": 10,
   "metadata": {},
   "outputs": [
    {
     "data": {
      "text/plain": [
       "title      0\n",
       "text       0\n",
       "subject    0\n",
       "date       0\n",
       "dtype: int64"
      ]
     },
     "execution_count": 10,
     "metadata": {},
     "output_type": "execute_result"
    }
   ],
   "source": [
    "fake_data.isna().sum()\n"
   ]
  },
  {
   "cell_type": "code",
   "execution_count": 11,
   "metadata": {},
   "outputs": [
    {
     "data": {
      "text/html": [
       "<div>\n",
       "<style scoped>\n",
       "    .dataframe tbody tr th:only-of-type {\n",
       "        vertical-align: middle;\n",
       "    }\n",
       "\n",
       "    .dataframe tbody tr th {\n",
       "        vertical-align: top;\n",
       "    }\n",
       "\n",
       "    .dataframe thead th {\n",
       "        text-align: right;\n",
       "    }\n",
       "</style>\n",
       "<table border=\"1\" class=\"dataframe\">\n",
       "  <thead>\n",
       "    <tr style=\"text-align: right;\">\n",
       "      <th></th>\n",
       "      <th>title</th>\n",
       "      <th>text</th>\n",
       "      <th>subject</th>\n",
       "      <th>date</th>\n",
       "      <th>Target</th>\n",
       "    </tr>\n",
       "  </thead>\n",
       "  <tbody>\n",
       "    <tr>\n",
       "      <th>0</th>\n",
       "      <td>U.S. spy agencies probe another flank in Russi...</td>\n",
       "      <td>SAN FRANCISCO (Reuters) - Russian hacking of t...</td>\n",
       "      <td>politicsNews</td>\n",
       "      <td>June 7, 2017</td>\n",
       "      <td>True</td>\n",
       "    </tr>\n",
       "    <tr>\n",
       "      <th>1</th>\n",
       "      <td>VIOLENT RIOT Shuts Down Free Speech Of Breitba...</td>\n",
       "      <td>PRICELESS! MILO DESTROYS Heckling Muslim Woman...</td>\n",
       "      <td>politics</td>\n",
       "      <td>Feb 1, 2017</td>\n",
       "      <td>Fake</td>\n",
       "    </tr>\n",
       "    <tr>\n",
       "      <th>2</th>\n",
       "      <td>Chuck Schumer DESTROYS Ted Cruz Over Vow To B...</td>\n",
       "      <td>Senator Chuck Schumer ( D- NY) is furious with...</td>\n",
       "      <td>News</td>\n",
       "      <td>February 14, 2016</td>\n",
       "      <td>Fake</td>\n",
       "    </tr>\n",
       "    <tr>\n",
       "      <th>3</th>\n",
       "      <td>Senate blocks bill that would override state G...</td>\n",
       "      <td>(Reuters) - The U.S. Senate on Wednesday block...</td>\n",
       "      <td>politicsNews</td>\n",
       "      <td>March 16, 2016</td>\n",
       "      <td>True</td>\n",
       "    </tr>\n",
       "    <tr>\n",
       "      <th>4</th>\n",
       "      <td>Cambodia accuses U.S. of political interferenc...</td>\n",
       "      <td>PHNOM PENH (Reuters) - Cambodia hit back on Th...</td>\n",
       "      <td>worldnews</td>\n",
       "      <td>August 24, 2017</td>\n",
       "      <td>True</td>\n",
       "    </tr>\n",
       "  </tbody>\n",
       "</table>\n",
       "</div>"
      ],
      "text/plain": [
       "                                               title  \\\n",
       "0  U.S. spy agencies probe another flank in Russi...   \n",
       "1  VIOLENT RIOT Shuts Down Free Speech Of Breitba...   \n",
       "2   Chuck Schumer DESTROYS Ted Cruz Over Vow To B...   \n",
       "3  Senate blocks bill that would override state G...   \n",
       "4  Cambodia accuses U.S. of political interferenc...   \n",
       "\n",
       "                                                text       subject  \\\n",
       "0  SAN FRANCISCO (Reuters) - Russian hacking of t...  politicsNews   \n",
       "1  PRICELESS! MILO DESTROYS Heckling Muslim Woman...      politics   \n",
       "2  Senator Chuck Schumer ( D- NY) is furious with...          News   \n",
       "3  (Reuters) - The U.S. Senate on Wednesday block...  politicsNews   \n",
       "4  PHNOM PENH (Reuters) - Cambodia hit back on Th...     worldnews   \n",
       "\n",
       "                date Target  \n",
       "0      June 7, 2017    True  \n",
       "1        Feb 1, 2017   Fake  \n",
       "2  February 14, 2016   Fake  \n",
       "3    March 16, 2016    True  \n",
       "4   August 24, 2017    True  "
      ]
     },
     "execution_count": 11,
     "metadata": {},
     "output_type": "execute_result"
    }
   ],
   "source": [
    "true_data['Target'] = ['True']*len(true_data)\n",
    "fake_data['Target'] = ['Fake']*len(fake_data)\n",
    "data = true_data.append(fake_data).sample(frac=1).reset_index().drop(columns=['index'])\n",
    "data.shape\n",
    "data.head()"
   ]
  },
  {
   "cell_type": "code",
   "execution_count": 12,
   "metadata": {},
   "outputs": [],
   "source": [
    "data['label'] = pd.get_dummies(data.Target)['Fake']\n"
   ]
  },
  {
   "cell_type": "code",
   "execution_count": 13,
   "metadata": {},
   "outputs": [
    {
     "data": {
      "text/html": [
       "<div>\n",
       "<style scoped>\n",
       "    .dataframe tbody tr th:only-of-type {\n",
       "        vertical-align: middle;\n",
       "    }\n",
       "\n",
       "    .dataframe tbody tr th {\n",
       "        vertical-align: top;\n",
       "    }\n",
       "\n",
       "    .dataframe thead th {\n",
       "        text-align: right;\n",
       "    }\n",
       "</style>\n",
       "<table border=\"1\" class=\"dataframe\">\n",
       "  <thead>\n",
       "    <tr style=\"text-align: right;\">\n",
       "      <th></th>\n",
       "      <th>title</th>\n",
       "      <th>text</th>\n",
       "      <th>subject</th>\n",
       "      <th>date</th>\n",
       "      <th>Target</th>\n",
       "      <th>label</th>\n",
       "    </tr>\n",
       "  </thead>\n",
       "  <tbody>\n",
       "    <tr>\n",
       "      <th>0</th>\n",
       "      <td>U.S. spy agencies probe another flank in Russi...</td>\n",
       "      <td>SAN FRANCISCO (Reuters) - Russian hacking of t...</td>\n",
       "      <td>politicsNews</td>\n",
       "      <td>June 7, 2017</td>\n",
       "      <td>True</td>\n",
       "      <td>0</td>\n",
       "    </tr>\n",
       "    <tr>\n",
       "      <th>1</th>\n",
       "      <td>VIOLENT RIOT Shuts Down Free Speech Of Breitba...</td>\n",
       "      <td>PRICELESS! MILO DESTROYS Heckling Muslim Woman...</td>\n",
       "      <td>politics</td>\n",
       "      <td>Feb 1, 2017</td>\n",
       "      <td>Fake</td>\n",
       "      <td>1</td>\n",
       "    </tr>\n",
       "    <tr>\n",
       "      <th>2</th>\n",
       "      <td>Chuck Schumer DESTROYS Ted Cruz Over Vow To B...</td>\n",
       "      <td>Senator Chuck Schumer ( D- NY) is furious with...</td>\n",
       "      <td>News</td>\n",
       "      <td>February 14, 2016</td>\n",
       "      <td>Fake</td>\n",
       "      <td>1</td>\n",
       "    </tr>\n",
       "    <tr>\n",
       "      <th>3</th>\n",
       "      <td>Senate blocks bill that would override state G...</td>\n",
       "      <td>(Reuters) - The U.S. Senate on Wednesday block...</td>\n",
       "      <td>politicsNews</td>\n",
       "      <td>March 16, 2016</td>\n",
       "      <td>True</td>\n",
       "      <td>0</td>\n",
       "    </tr>\n",
       "    <tr>\n",
       "      <th>4</th>\n",
       "      <td>Cambodia accuses U.S. of political interferenc...</td>\n",
       "      <td>PHNOM PENH (Reuters) - Cambodia hit back on Th...</td>\n",
       "      <td>worldnews</td>\n",
       "      <td>August 24, 2017</td>\n",
       "      <td>True</td>\n",
       "      <td>0</td>\n",
       "    </tr>\n",
       "  </tbody>\n",
       "</table>\n",
       "</div>"
      ],
      "text/plain": [
       "                                               title  \\\n",
       "0  U.S. spy agencies probe another flank in Russi...   \n",
       "1  VIOLENT RIOT Shuts Down Free Speech Of Breitba...   \n",
       "2   Chuck Schumer DESTROYS Ted Cruz Over Vow To B...   \n",
       "3  Senate blocks bill that would override state G...   \n",
       "4  Cambodia accuses U.S. of political interferenc...   \n",
       "\n",
       "                                                text       subject  \\\n",
       "0  SAN FRANCISCO (Reuters) - Russian hacking of t...  politicsNews   \n",
       "1  PRICELESS! MILO DESTROYS Heckling Muslim Woman...      politics   \n",
       "2  Senator Chuck Schumer ( D- NY) is furious with...          News   \n",
       "3  (Reuters) - The U.S. Senate on Wednesday block...  politicsNews   \n",
       "4  PHNOM PENH (Reuters) - Cambodia hit back on Th...     worldnews   \n",
       "\n",
       "                date Target  label  \n",
       "0      June 7, 2017    True      0  \n",
       "1        Feb 1, 2017   Fake      1  \n",
       "2  February 14, 2016   Fake      1  \n",
       "3    March 16, 2016    True      0  \n",
       "4   August 24, 2017    True      0  "
      ]
     },
     "execution_count": 13,
     "metadata": {},
     "output_type": "execute_result"
    }
   ],
   "source": [
    "data.head()\n"
   ]
  },
  {
   "cell_type": "code",
   "execution_count": 14,
   "metadata": {},
   "outputs": [
    {
     "data": {
      "text/plain": [
       "title      0\n",
       "text       0\n",
       "subject    0\n",
       "date       0\n",
       "Target     0\n",
       "label      0\n",
       "dtype: int64"
      ]
     },
     "execution_count": 14,
     "metadata": {},
     "output_type": "execute_result"
    }
   ],
   "source": [
    "data.isnull().sum()\n"
   ]
  },
  {
   "cell_type": "code",
   "execution_count": 15,
   "metadata": {},
   "outputs": [
    {
     "name": "stdout",
     "output_type": "stream",
     "text": [
      "Real News Subject :  {'politicsNews': 11272, 'worldnews': 10145}\n",
      "Fake News Subject :  {'News': 9050, 'politics': 6841, 'left-news': 4459, 'Government News': 1570, 'US_News': 783, 'Middle-east': 778}\n"
     ]
    },
    {
     "data": {
      "image/png": "[encoded data removed]",
      "text/plain": [
       "<Figure size 1080x432 with 2 Axes>"
      ]
     },
     "metadata": {
      "needs_background": "light"
     },
     "output_type": "display_data"
    }
   ],
   "source": [
    "fig, axes = plt.subplots(1,2, figsize = (15,6))\n",
    "\n",
    "#Adding the histogram1 - True News\n",
    "sns.histplot(true_data.subject, palette = 'Set1', alpha = 0.5, ax = axes[1])\n",
    "axes[1].tick_params(axis = 'x', rotation = 90)\n",
    "axes[1].set_title('Real  News Subject')\n",
    "\n",
    "#Adding the histogram2 - Fake News\n",
    "sns.histplot(fake_data.subject, palette = 'Set1', alpha = 0.5, ax = axes[0])\n",
    "axes[0].tick_params(axis = 'x', rotation = 90)\n",
    "axes[0].set_title('Fake News Subject')\n",
    "\n",
    "\n",
    "#Printing the count of Subject\n",
    "print(\"Real News Subject : \",dict(true_data.subject.value_counts()))\n",
    "print(\"Fake News Subject : \",dict(fake_data.subject.value_counts()))"
   ]
  },
  {
   "cell_type": "code",
   "execution_count": 16,
   "metadata": {},
   "outputs": [
    {
     "data": {
      "text/plain": [
       "1    23481\n",
       "0    21417\n",
       "Name: label, dtype: int64"
      ]
     },
     "execution_count": 16,
     "metadata": {},
     "output_type": "execute_result"
    },
    {
     "data": {
      "image/png": "[encoded data removed]",
      "text/plain": [
       "<Figure size 432x288 with 1 Axes>"
      ]
     },
     "metadata": {
      "needs_background": "light"
     },
     "output_type": "display_data"
    }
   ],
   "source": [
    "sns.histplot(data.label, palette = 'Set1', alpha = 0.5)\n",
    "plt.tick_params(axis = 'x', rotation = 90)\n",
    "plt.title('True VS Fake News')\n",
    "data.label.value_counts()"
   ]
  },
  {
   "cell_type": "code",
   "execution_count": 17,
   "metadata": {},
   "outputs": [],
   "source": [
    "from sklearn.model_selection import train_test_split\n"
   ]
  },
  {
   "cell_type": "code",
   "execution_count": 18,
   "metadata": {},
   "outputs": [
    {
     "name": "stdout",
     "output_type": "stream",
     "text": [
      "Requirement already satisfied: numpy<1.24.0 in c:\\users\\91978\\anaconda3\\lib\\site-packages (1.23.4)\n"
     ]
    }
   ],
   "source": [
    "!pip install \"numpy<1.24.0\"\n"
   ]
  },
  {
   "cell_type": "code",
   "execution_count": 19,
   "metadata": {},
   "outputs": [],
   "source": [
    "train_text, temp_text, train_labels, temp_labels = train_test_split(data['title'], data['label'], \n",
    "                                                                    random_state=2018, \n",
    "                                                                    test_size=0.3, \n",
    "                                                                    stratify=data['Target'])\n",
    "# Validation-Test split\n",
    "val_text, test_text, val_labels, test_labels = train_test_split(temp_text, temp_labels, \n",
    "                                                                random_state=2018, \n",
    "                                                                test_size=0.5, \n",
    "                                                                stratify=temp_labels)"
   ]
  },
  {
   "cell_type": "code",
   "execution_count": 20,
   "metadata": {},
   "outputs": [
    {
     "name": "stdout",
     "output_type": "stream",
     "text": [
      "Requirement already satisfied: transformers in c:\\users\\91978\\anaconda3\\lib\\site-packages (4.26.1)\n",
      "Requirement already satisfied: pyyaml>=5.1 in c:\\users\\91978\\anaconda3\\lib\\site-packages (from transformers) (5.3.1)\n",
      "Requirement already satisfied: requests in c:\\users\\91978\\anaconda3\\lib\\site-packages (from transformers) (2.28.2)\n",
      "Requirement already satisfied: tqdm>=4.27 in c:\\users\\91978\\anaconda3\\lib\\site-packages (from transformers) (4.50.2)\n",
      "Requirement already satisfied: filelock in c:\\users\\91978\\anaconda3\\lib\\site-packages (from transformers) (3.0.12)\n",
      "Requirement already satisfied: regex!=2019.12.17 in c:\\users\\91978\\anaconda3\\lib\\site-packages (from transformers) (2020.10.15)\n",
      "Requirement already satisfied: numpy>=1.17 in c:\\users\\91978\\anaconda3\\lib\\site-packages (from transformers) (1.23.4)\n",
      "Requirement already satisfied: packaging>=20.0 in c:\\users\\91978\\anaconda3\\lib\\site-packages (from transformers) (23.0)\n",
      "Requirement already satisfied: huggingface-hub<1.0,>=0.11.0 in c:\\users\\91978\\anaconda3\\lib\\site-packages (from transformers) (0.12.1)\n",
      "Requirement already satisfied: tokenizers!=0.11.3,<0.14,>=0.11.1 in c:\\users\\91978\\anaconda3\\lib\\site-packages (from transformers) (0.13.2)\n",
      "Requirement already satisfied: charset-normalizer<4,>=2 in c:\\users\\91978\\anaconda3\\lib\\site-packages (from requests->transformers) (3.0.1)\n",
      "Requirement already satisfied: urllib3<1.27,>=1.21.1 in c:\\users\\91978\\anaconda3\\lib\\site-packages (from requests->transformers) (1.25.11)\n",
      "Requirement already satisfied: certifi>=2017.4.17 in c:\\users\\91978\\anaconda3\\lib\\site-packages (from requests->transformers) (2020.6.20)\n",
      "Requirement already satisfied: idna<4,>=2.5 in c:\\users\\91978\\anaconda3\\lib\\site-packages (from requests->transformers) (2.10)\n",
      "Requirement already satisfied: typing-extensions>=3.7.4.3 in c:\\users\\91978\\anaconda3\\lib\\site-packages (from huggingface-hub<1.0,>=0.11.0->transformers) (4.3.0)\n",
      "Collecting pycaret"
     ]
    },
    {
     "name": "stderr",
     "output_type": "stream",
     "text": [
      "ERROR: Cannot uninstall 'llvmlite'. It is a distutils installed project and thus we cannot accurately determine which files belong to it which would lead to only a partial uninstall.\n"
     ]
    },
    {
     "name": "stdout",
     "output_type": "stream",
     "text": [
      "\n",
      "  Downloading pycaret-3.0.4-py3-none-any.whl (484 kB)\n",
      "Collecting markupsafe>=2.0.1\n",
      "  Downloading MarkupSafe-2.1.3-cp38-cp38-win_amd64.whl (17 kB)\n",
      "Collecting lightgbm>=3.0.0\n",
      "  Downloading lightgbm-4.0.0-py3-none-win_amd64.whl (1.3 MB)\n",
      "Requirement already satisfied: scipy<2.0.0 in c:\\users\\91978\\anaconda3\\lib\\site-packages (from pycaret) (1.10.1)\n",
      "Collecting pandas<2.0.0,>=1.3.0\n",
      "  Downloading pandas-1.5.3-cp38-cp38-win_amd64.whl (11.0 MB)\n",
      "Collecting tqdm>=4.62.0\n",
      "  Downloading tqdm-4.65.0-py3-none-any.whl (77 kB)\n",
      "Collecting yellowbrick>=1.4\n",
      "  Downloading yellowbrick-1.5-py3-none-any.whl (282 kB)\n",
      "Collecting scikit-learn<1.3.0,>=1.0\n",
      "  Downloading scikit_learn-1.2.2-cp38-cp38-win_amd64.whl (8.3 MB)\n",
      "Collecting plotly-resampler>=0.8.3.1\n",
      "  Downloading plotly_resampler-0.9.1-py3-none-any.whl (73 kB)\n",
      "Collecting sktime!=0.17.1,!=0.17.2,!=0.18.0,>=0.16.1\n",
      "  Downloading sktime-0.21.0-py3-none-any.whl (17.1 MB)\n",
      "Collecting pyod>=1.0.8\n",
      "  Downloading pyod-1.1.0.tar.gz (153 kB)\n",
      "Collecting xxhash\n",
      "  Downloading xxhash-3.3.0-cp38-cp38-win_amd64.whl (29 kB)\n",
      "Collecting tbats>=1.1.3\n",
      "  Downloading tbats-1.1.3-py3-none-any.whl (44 kB)\n",
      "Collecting category-encoders>=2.4.0\n",
      "  Downloading category_encoders-2.6.1-py2.py3-none-any.whl (81 kB)\n",
      "Requirement already satisfied: numpy<1.24,>=1.21 in c:\\users\\91978\\anaconda3\\lib\\site-packages (from pycaret) (1.23.4)\n",
      "Requirement already satisfied: jinja2>=1.2 in c:\\users\\91978\\anaconda3\\lib\\site-packages (from pycaret) (2.11.2)\n",
      "Requirement already satisfied: importlib-metadata>=4.12.0 in c:\\users\\91978\\anaconda3\\lib\\site-packages (from pycaret) (5.0.0)\n",
      "Collecting psutil>=5.9.0\n",
      "  Downloading psutil-5.9.5-cp36-abi3-win_amd64.whl (255 kB)\n",
      "Collecting schemdraw==0.15\n",
      "  Downloading schemdraw-0.15-py3-none-any.whl (106 kB)\n",
      "Collecting imbalanced-learn>=0.8.1\n",
      "  Downloading imbalanced_learn-0.11.0-py3-none-any.whl (235 kB)\n",
      "Requirement already satisfied: cloudpickle in c:\\users\\91978\\anaconda3\\lib\\site-packages (from pycaret) (1.6.0)\n",
      "Requirement already satisfied: requests>=2.27.1 in c:\\users\\91978\\anaconda3\\lib\\site-packages (from pycaret) (2.28.2)\n",
      "Collecting pmdarima!=1.8.1,<3.0.0,>=1.8.0\n",
      "  Downloading pmdarima-2.0.3-cp38-cp38-win_amd64.whl (572 kB)\n",
      "Requirement already satisfied: nbformat>=4.2.0 in c:\\users\\91978\\anaconda3\\lib\\site-packages (from pycaret) (5.0.8)\n",
      "Requirement already satisfied: plotly>=5.0.0 in c:\\users\\91978\\anaconda3\\lib\\site-packages (from pycaret) (5.10.0)\n",
      "Collecting ipywidgets>=7.6.5\n",
      "  Downloading ipywidgets-8.1.0-py3-none-any.whl (139 kB)\n",
      "Collecting kaleido>=0.2.1\n",
      "  Downloading kaleido-0.2.1-py2.py3-none-win_amd64.whl (65.9 MB)\n",
      "Requirement already satisfied: matplotlib>=3.3.0 in c:\\users\\91978\\anaconda3\\lib\\site-packages (from pycaret) (3.3.2)\n",
      "Collecting scikit-plot>=0.3.7\n",
      "  Downloading scikit_plot-0.3.7-py3-none-any.whl (33 kB)\n",
      "Collecting statsmodels>=0.12.1\n",
      "  Downloading statsmodels-0.14.0-cp38-cp38-win_amd64.whl (9.4 MB)\n",
      "Collecting numba>=0.55.0\n",
      "  Downloading numba-0.57.1-cp38-cp38-win_amd64.whl (2.6 MB)\n",
      "Requirement already satisfied: ipython>=5.5.0 in c:\\users\\91978\\anaconda3\\lib\\site-packages (from pycaret) (7.19.0)\n",
      "Collecting deprecation>=2.1.0\n",
      "  Downloading deprecation-2.1.0-py2.py3-none-any.whl (11 kB)\n",
      "Collecting joblib>=1.2.0\n",
      "  Downloading joblib-1.3.1-py3-none-any.whl (301 kB)\n",
      "Requirement already satisfied: python-dateutil>=2.8.1 in c:\\users\\91978\\anaconda3\\lib\\site-packages (from pandas<2.0.0,>=1.3.0->pycaret) (2.8.1)\n",
      "Requirement already satisfied: pytz>=2020.1 in c:\\users\\91978\\anaconda3\\lib\\site-packages (from pandas<2.0.0,>=1.3.0->pycaret) (2020.1)\n",
      "Requirement already satisfied: colorama; platform_system == \"Windows\" in c:\\users\\91978\\anaconda3\\lib\\site-packages (from tqdm>=4.62.0->pycaret) (0.4.4)\n",
      "Requirement already satisfied: cycler>=0.10.0 in c:\\users\\91978\\anaconda3\\lib\\site-packages (from yellowbrick>=1.4->pycaret) (0.10.0)\n",
      "Requirement already satisfied: threadpoolctl>=2.0.0 in c:\\users\\91978\\anaconda3\\lib\\site-packages (from scikit-learn<1.3.0,>=1.0->pycaret) (2.1.0)\n",
      "Collecting tsdownsample==0.1.2\n",
      "  Downloading tsdownsample-0.1.2-cp38-none-win_amd64.whl (1.0 MB)\n",
      "Collecting dash<3.0.0,>=2.11.0\n",
      "  Downloading dash-2.11.1-py3-none-any.whl (10.4 MB)\n",
      "Collecting orjson<4.0.0,>=3.8.0\n",
      "  Downloading orjson-3.9.2-cp38-none-win_amd64.whl (195 kB)\n",
      "Collecting trace-updater>=0.0.8\n",
      "  Downloading trace_updater-0.0.9.1-py3-none-any.whl (185 kB)\n",
      "Collecting scikit-base<0.6.0\n",
      "  Downloading scikit_base-0.5.0-py3-none-any.whl (118 kB)\n",
      "Collecting deprecated>=1.2.13\n",
      "  Downloading Deprecated-1.2.14-py2.py3-none-any.whl (9.6 kB)\n",
      "Requirement already satisfied: packaging in c:\\users\\91978\\anaconda3\\lib\\site-packages (from sktime!=0.17.1,!=0.17.2,!=0.18.0,>=0.16.1->pycaret) (23.0)\n",
      "Requirement already satisfied: six in c:\\users\\91978\\anaconda3\\lib\\site-packages (from pyod>=1.0.8->pycaret) (1.15.0)\n",
      "Requirement already satisfied: patsy>=0.5.1 in c:\\users\\91978\\anaconda3\\lib\\site-packages (from category-encoders>=2.4.0->pycaret) (0.5.1)\n",
      "Requirement already satisfied: zipp>=0.5 in c:\\users\\91978\\anaconda3\\lib\\site-packages (from importlib-metadata>=4.12.0->pycaret) (3.4.0)\n",
      "Requirement already satisfied: certifi>=2017.4.17 in c:\\users\\91978\\anaconda3\\lib\\site-packages (from requests>=2.27.1->pycaret) (2020.6.20)\n",
      "Requirement already satisfied: charset-normalizer<4,>=2 in c:\\users\\91978\\anaconda3\\lib\\site-packages (from requests>=2.27.1->pycaret) (3.0.1)\n",
      "Requirement already satisfied: idna<4,>=2.5 in c:\\users\\91978\\anaconda3\\lib\\site-packages (from requests>=2.27.1->pycaret) (2.10)\n",
      "Requirement already satisfied: urllib3<1.27,>=1.21.1 in c:\\users\\91978\\anaconda3\\lib\\site-packages (from requests>=2.27.1->pycaret) (1.25.11)\n",
      "Requirement already satisfied: Cython!=0.29.18,!=0.29.31,>=0.29 in c:\\users\\91978\\anaconda3\\lib\\site-packages (from pmdarima!=1.8.1,<3.0.0,>=1.8.0->pycaret) (0.29.21)\n",
      "Requirement already satisfied: setuptools!=50.0.0,>=38.6.0 in c:\\users\\91978\\anaconda3\\lib\\site-packages (from pmdarima!=1.8.1,<3.0.0,>=1.8.0->pycaret) (50.3.1.post20201107)\n",
      "Requirement already satisfied: traitlets>=4.1 in c:\\users\\91978\\anaconda3\\lib\\site-packages (from nbformat>=4.2.0->pycaret) (5.0.5)\n",
      "Requirement already satisfied: ipython-genutils in c:\\users\\91978\\anaconda3\\lib\\site-packages (from nbformat>=4.2.0->pycaret) (0.2.0)\n",
      "Requirement already satisfied: jupyter-core in c:\\users\\91978\\anaconda3\\lib\\site-packages (from nbformat>=4.2.0->pycaret) (4.6.3)\n",
      "Requirement already satisfied: jsonschema!=2.5.0,>=2.4 in c:\\users\\91978\\anaconda3\\lib\\site-packages (from nbformat>=4.2.0->pycaret) (3.2.0)\n",
      "Requirement already satisfied: tenacity>=6.2.0 in c:\\users\\91978\\anaconda3\\lib\\site-packages (from plotly>=5.0.0->pycaret) (8.0.1)\n",
      "Collecting comm>=0.1.3\n",
      "  Downloading comm-0.1.4-py3-none-any.whl (6.6 kB)\n",
      "Collecting widgetsnbextension~=4.0.7\n",
      "  Downloading widgetsnbextension-4.0.8-py3-none-any.whl (2.3 MB)\n",
      "Collecting jupyterlab-widgets~=3.0.7\n",
      "  Downloading jupyterlab_widgets-3.0.8-py3-none-any.whl (214 kB)\n",
      "Requirement already satisfied: pyparsing!=2.0.4,!=2.1.2,!=2.1.6,>=2.0.3 in c:\\users\\91978\\anaconda3\\lib\\site-packages (from matplotlib>=3.3.0->pycaret) (2.4.7)\n",
      "Requirement already satisfied: pillow>=6.2.0 in c:\\users\\91978\\anaconda3\\lib\\site-packages (from matplotlib>=3.3.0->pycaret) (9.4.0)\n",
      "Requirement already satisfied: kiwisolver>=1.0.1 in c:\\users\\91978\\anaconda3\\lib\\site-packages (from matplotlib>=3.3.0->pycaret) (1.3.0)\n",
      "Collecting llvmlite<0.41,>=0.40.0dev0\n",
      "  Downloading llvmlite-0.40.1-cp38-cp38-win_amd64.whl (27.7 MB)\n",
      "Requirement already satisfied: pickleshare in c:\\users\\91978\\anaconda3\\lib\\site-packages (from ipython>=5.5.0->pycaret) (0.7.5)\n",
      "Requirement already satisfied: backcall in c:\\users\\91978\\anaconda3\\lib\\site-packages (from ipython>=5.5.0->pycaret) (0.2.0)\n",
      "Requirement already satisfied: jedi>=0.10 in c:\\users\\91978\\anaconda3\\lib\\site-packages (from ipython>=5.5.0->pycaret) (0.17.1)\n",
      "Requirement already satisfied: prompt-toolkit!=3.0.0,!=3.0.1,<3.1.0,>=2.0.0 in c:\\users\\91978\\anaconda3\\lib\\site-packages (from ipython>=5.5.0->pycaret) (3.0.8)\n",
      "Requirement already satisfied: decorator in c:\\users\\91978\\anaconda3\\lib\\site-packages (from ipython>=5.5.0->pycaret) (4.4.2)\n",
      "Requirement already satisfied: pygments in c:\\users\\91978\\anaconda3\\lib\\site-packages (from ipython>=5.5.0->pycaret) (2.7.2)\n",
      "Collecting retrying\n",
      "  Downloading retrying-1.3.4-py3-none-any.whl (11 kB)\n",
      "Requirement already satisfied: Werkzeug<2.3.0 in c:\\users\\91978\\anaconda3\\lib\\site-packages (from dash<3.0.0,>=2.11.0->plotly-resampler>=0.8.3.1->pycaret) (1.0.1)\n",
      "Collecting ansi2html\n",
      "  Downloading ansi2html-1.8.0-py3-none-any.whl (16 kB)\n",
      "Collecting dash-table==5.0.0\n",
      "  Downloading dash_table-5.0.0-py3-none-any.whl (3.9 kB)\n",
      "Requirement already satisfied: nest-asyncio in c:\\users\\91978\\anaconda3\\lib\\site-packages (from dash<3.0.0,>=2.11.0->plotly-resampler>=0.8.3.1->pycaret) (1.4.2)\n",
      "Collecting dash-html-components==2.0.0\n",
      "  Downloading dash_html_components-2.0.0-py3-none-any.whl (4.1 kB)\n",
      "Requirement already satisfied: Flask<2.3.0,>=1.0.4 in c:\\users\\91978\\anaconda3\\lib\\site-packages (from dash<3.0.0,>=2.11.0->plotly-resampler>=0.8.3.1->pycaret) (1.1.2)\n",
      "Requirement already satisfied: typing-extensions>=4.1.1 in c:\\users\\91978\\anaconda3\\lib\\site-packages (from dash<3.0.0,>=2.11.0->plotly-resampler>=0.8.3.1->pycaret) (4.3.0)\n",
      "Collecting dash-core-components==2.0.0\n",
      "  Downloading dash_core_components-2.0.0-py3-none-any.whl (3.8 kB)\n",
      "Requirement already satisfied: wrapt<2,>=1.10 in c:\\users\\91978\\anaconda3\\lib\\site-packages (from deprecated>=1.2.13->sktime!=0.17.1,!=0.17.2,!=0.18.0,>=0.16.1->pycaret) (1.11.2)\n",
      "Requirement already satisfied: pywin32>=1.0; sys_platform == \"win32\" in c:\\users\\91978\\anaconda3\\lib\\site-packages (from jupyter-core->nbformat>=4.2.0->pycaret) (227)\n",
      "Requirement already satisfied: pyrsistent>=0.14.0 in c:\\users\\91978\\anaconda3\\lib\\site-packages (from jsonschema!=2.5.0,>=2.4->nbformat>=4.2.0->pycaret) (0.17.3)\n",
      "Requirement already satisfied: attrs>=17.4.0 in c:\\users\\91978\\anaconda3\\lib\\site-packages (from jsonschema!=2.5.0,>=2.4->nbformat>=4.2.0->pycaret) (20.3.0)\n",
      "Requirement already satisfied: parso<0.8.0,>=0.7.0 in c:\\users\\91978\\anaconda3\\lib\\site-packages (from jedi>=0.10->ipython>=5.5.0->pycaret) (0.7.0)\n",
      "Requirement already satisfied: wcwidth in c:\\users\\91978\\anaconda3\\lib\\site-packages (from prompt-toolkit!=3.0.0,!=3.0.1,<3.1.0,>=2.0.0->ipython>=5.5.0->pycaret) (0.2.5)\n",
      "Requirement already satisfied: click>=5.1 in c:\\users\\91978\\anaconda3\\lib\\site-packages (from Flask<2.3.0,>=1.0.4->dash<3.0.0,>=2.11.0->plotly-resampler>=0.8.3.1->pycaret) (7.1.2)\n",
      "Requirement already satisfied: itsdangerous>=0.24 in c:\\users\\91978\\anaconda3\\lib\\site-packages (from Flask<2.3.0,>=1.0.4->dash<3.0.0,>=2.11.0->plotly-resampler>=0.8.3.1->pycaret) (1.1.0)\n",
      "Building wheels for collected packages: pyod\n",
      "  Building wheel for pyod (setup.py): started\n",
      "  Building wheel for pyod (setup.py): finished with status 'done'\n",
      "  Created wheel for pyod: filename=pyod-1.1.0-py3-none-any.whl size=185343 sha256=c5132ccb01fec038ce7e46fa0029fa4d9dad55248b35773773f265f21ee343e4\n",
      "  Stored in directory: c:\\users\\91978\\appdata\\local\\pip\\cache\\wheels\\77\\4e\\a8\\442459c5124a54438dd0f2f4a48aa089d26735e3d798a6e0af\n",
      "Successfully built pyod\n",
      "Installing collected packages: markupsafe, lightgbm, pandas, tqdm, joblib, scikit-learn, yellowbrick, tsdownsample, retrying, ansi2html, dash-table, dash-html-components, dash-core-components, dash, orjson, trace-updater, plotly-resampler, scikit-base, deprecated, sktime, llvmlite, numba, pyod, xxhash, statsmodels, pmdarima, tbats, category-encoders, psutil, schemdraw, imbalanced-learn, comm, widgetsnbextension, jupyterlab-widgets, ipywidgets, kaleido, scikit-plot, deprecation, pycaret\n",
      "  Attempting uninstall: markupsafe\n",
      "    Found existing installation: MarkupSafe 1.1.1\n",
      "    Uninstalling MarkupSafe-1.1.1:\n",
      "      Successfully uninstalled MarkupSafe-1.1.1\n",
      "  Attempting uninstall: pandas\n",
      "    Found existing installation: pandas 1.1.3\n",
      "    Uninstalling pandas-1.1.3:\n",
      "      Successfully uninstalled pandas-1.1.3\n",
      "  Attempting uninstall: tqdm\n",
      "    Found existing installation: tqdm 4.50.2\n",
      "    Uninstalling tqdm-4.50.2:\n",
      "      Successfully uninstalled tqdm-4.50.2\n",
      "  Attempting uninstall: joblib\n",
      "    Found existing installation: joblib 0.17.0\n",
      "    Uninstalling joblib-0.17.0:"
     ]
    }
   ],
   "source": [
    "! pip install transformers\n",
    "! pip install pycaret\n"
   ]
  },
  {
   "cell_type": "code",
   "execution_count": 25,
   "metadata": {},
   "outputs": [
    {
     "name": "stdout",
     "output_type": "stream",
     "text": [
      "Collecting pycaret\n",
      "  Using cached pycaret-3.0.4-py3-none-any.whl (484 kB)\n",
      "Collecting schemdraw==0.15\n",
      "  Using cached schemdraw-0.15-py3-none-any.whl (106 kB)\n",
      "Requirement already satisfied: plotly>=5.0.0 in c:\\users\\91978\\anaconda3\\lib\\site-packages (from pycaret) (5.10.0)\n",
      "Requirement already satisfied: nbformat>=4.2.0 in c:\\users\\91978\\anaconda3\\lib\\site-packages (from pycaret) (5.0.8)\n",
      "Requirement already satisfied: matplotlib>=3.3.0 in c:\\users\\91978\\anaconda3\\lib\\site-packages (from pycaret) (3.3.2)\n",
      "Requirement already satisfied: markupsafe>=2.0.1 in c:\\users\\91978\\anaconda3\\lib\\site-packages (from pycaret) (2.1.3)\n",
      "Collecting imbalanced-learn>=0.8.1\n",
      "  Using cached imbalanced_learn-0.11.0-py3-none-any.whl (235 kB)\n",
      "Requirement already satisfied: cloudpickle in c:\\users\\91978\\anaconda3\\lib\\site-packages (from pycaret) (1.6.0)\n",
      "Requirement already satisfied: scikit-learn<1.3.0,>=1.0 in c:\\users\\91978\\anaconda3\\lib\\site-packages (from pycaret) (1.2.2)\n",
      "Requirement already satisfied: pandas<2.0.0,>=1.3.0 in c:\\users\\91978\\anaconda3\\lib\\site-packages (from pycaret) (1.5.3)\n",
      "Requirement already satisfied: lightgbm>=3.0.0 in c:\\users\\91978\\anaconda3\\lib\\site-packages (from pycaret) (4.0.0)\n",
      "Requirement already satisfied: yellowbrick>=1.4 in c:\\users\\91978\\anaconda3\\lib\\site-packages (from pycaret) (1.5)\n",
      "Collecting kaleido>=0.2.1\n",
      "  Using cached kaleido-0.2.1-py2.py3-none-win_amd64.whl (65.9 MB)\n",
      "Collecting numba>=0.55.0\n",
      "  Using cached numba-0.57.1-cp38-cp38-win_amd64.whl (2.6 MB)\n",
      "Collecting statsmodels>=0.12.1\n",
      "  Using cached statsmodels-0.14.0-cp38-cp38-win_amd64.whl (9.4 MB)\n",
      "Requirement already satisfied: jinja2>=1.2 in c:\\users\\91978\\anaconda3\\lib\\site-packages (from pycaret) (2.11.2)\n",
      "Requirement already satisfied: importlib-metadata>=4.12.0 in c:\\users\\91978\\anaconda3\\lib\\site-packages (from pycaret) (5.0.0)\n",
      "Collecting xxhash\n",
      "  Using cached xxhash-3.3.0-cp38-cp38-win_amd64.whl (29 kB)\n",
      "Collecting ipywidgets>=7.6.5\n",
      "  Using cached ipywidgets-8.1.0-py3-none-any.whl (139 kB)\n",
      "Requirement already satisfied: plotly-resampler>=0.8.3.1 in c:\\users\\91978\\anaconda3\\lib\\site-packages (from pycaret) (0.9.1)\n",
      "Processing c:\\users\\91978\\appdata\\local\\pip\\cache\\wheels\\77\\4e\\a8\\442459c5124a54438dd0f2f4a48aa089d26735e3d798a6e0af\\pyod-1.1.0-py3-none-any.whl\n",
      "Collecting psutil>=5.9.0\n",
      "  Using cached psutil-5.9.5-cp36-abi3-win_amd64.whl (255 kB)\n",
      "Requirement already satisfied: joblib>=1.2.0 in c:\\users\\91978\\anaconda3\\lib\\site-packages (from pycaret) (1.3.1)\n",
      "Collecting tbats>=1.1.3\n",
      "  Using cached tbats-1.1.3-py3-none-any.whl (44 kB)\n",
      "Requirement already satisfied: tqdm>=4.62.0 in c:\\users\\91978\\anaconda3\\lib\\site-packages (from pycaret) (4.65.0)\n",
      "Requirement already satisfied: numpy<1.24,>=1.21 in c:\\users\\91978\\anaconda3\\lib\\site-packages (from pycaret) (1.23.4)\n",
      "Requirement already satisfied: requests>=2.27.1 in c:\\users\\91978\\anaconda3\\lib\\site-packages (from pycaret) (2.28.2)\n",
      "Collecting category-encoders>=2.4.0\n",
      "  Using cached category_encoders-2.6.1-py2.py3-none-any.whl (81 kB)\n",
      "Requirement already satisfied: ipython>=5.5.0 in c:\\users\\91978\\anaconda3\\lib\\site-packages (from pycaret) (7.19.0)\n",
      "Requirement already satisfied: scipy<2.0.0 in c:\\users\\91978\\anaconda3\\lib\\site-packages (from pycaret) (1.10.1)\n",
      "Requirement already satisfied: deprecation>=2.1.0 in c:\\users\\91978\\anaconda3\\lib\\site-packages (from pycaret) (2.1.0)\n",
      "Requirement already satisfied: sktime!=0.17.1,!=0.17.2,!=0.18.0,>=0.16.1 in c:\\users\\91978\\anaconda3\\lib\\site-packages (from pycaret) (0.21.0)\n",
      "Collecting pmdarima!=1.8.1,<3.0.0,>=1.8.0\n",
      "  Using cached pmdarima-2.0.3-cp38-cp38-win_amd64.whl (572 kB)\n",
      "Collecting scikit-plot>=0.3.7\n",
      "  Using cached scikit_plot-0.3.7-py3-none-any.whl (33 kB)\n",
      "Requirement already satisfied: tenacity>=6.2.0 in c:\\users\\91978\\anaconda3\\lib\\site-packages (from plotly>=5.0.0->pycaret) (8.0.1)\n",
      "Requirement already satisfied: jsonschema!=2.5.0,>=2.4 in c:\\users\\91978\\anaconda3\\lib\\site-packages (from nbformat>=4.2.0->pycaret) (3.2.0)\n",
      "Requirement already satisfied: jupyter-core in c:\\users\\91978\\anaconda3\\lib\\site-packages (from nbformat>=4.2.0->pycaret) (4.6.3)\n",
      "Requirement already satisfied: ipython-genutils in c:\\users\\91978\\anaconda3\\lib\\site-packages (from nbformat>=4.2.0->pycaret) (0.2.0)\n",
      "Requirement already satisfied: traitlets>=4.1 in c:\\users\\91978\\anaconda3\\lib\\site-packages (from nbformat>=4.2.0->pycaret) (5.0.5)\n",
      "Requirement already satisfied: pillow>=6.2.0 in c:\\users\\91978\\anaconda3\\lib\\site-packages (from matplotlib>=3.3.0->pycaret) (9.4.0)\n",
      "Requirement already satisfied: certifi>=2020.06.20 in c:\\users\\91978\\anaconda3\\lib\\site-packages (from matplotlib>=3.3.0->pycaret) (2020.6.20)\n",
      "Requirement already satisfied: cycler>=0.10 in c:\\users\\91978\\anaconda3\\lib\\site-packages (from matplotlib>=3.3.0->pycaret) (0.10.0)\n",
      "Requirement already satisfied: pyparsing!=2.0.4,!=2.1.2,!=2.1.6,>=2.0.3 in c:\\users\\91978\\anaconda3\\lib\\site-packages (from matplotlib>=3.3.0->pycaret) (2.4.7)\n",
      "Requirement already satisfied: kiwisolver>=1.0.1 in c:\\users\\91978\\anaconda3\\lib\\site-packages (from matplotlib>=3.3.0->pycaret) (1.3.0)\n",
      "Requirement already satisfied: python-dateutil>=2.1 in c:\\users\\91978\\anaconda3\\lib\\site-packages (from matplotlib>=3.3.0->pycaret) (2.8.1)\n",
      "Requirement already satisfied: threadpoolctl>=2.0.0 in c:\\users\\91978\\anaconda3\\lib\\site-packages (from imbalanced-learn>=0.8.1->pycaret) (2.1.0)\n",
      "Requirement already satisfied: pytz>=2020.1 in c:\\users\\91978\\anaconda3\\lib\\site-packages (from pandas<2.0.0,>=1.3.0->pycaret) (2020.1)\n",
      "Collecting llvmlite<0.41,>=0.40.0dev0\n",
      "  Using cached llvmlite-0.40.1-cp38-cp38-win_amd64.whl (27.7 MB)\n",
      "Collecting patsy>=0.5.2\n",
      "  Downloading patsy-0.5.3-py2.py3-none-any.whl (233 kB)\n",
      "Requirement already satisfied: packaging>=21.3 in c:\\users\\91978\\anaconda3\\lib\\site-packages (from statsmodels>=0.12.1->pycaret) (23.0)\n",
      "Requirement already satisfied: zipp>=0.5 in c:\\users\\91978\\anaconda3\\lib\\site-packages (from importlib-metadata>=4.12.0->pycaret) (3.4.0)\n",
      "Collecting comm>=0.1.3\n",
      "  Using cached comm-0.1.4-py3-none-any.whl (6.6 kB)\n",
      "Collecting widgetsnbextension~=4.0.7\n",
      "  Using cached widgetsnbextension-4.0.8-py3-none-any.whl (2.3 MB)"
     ]
    },
    {
     "name": "stderr",
     "output_type": "stream",
     "text": [
      "ERROR: Cannot uninstall 'llvmlite'. It is a distutils installed project and thus we cannot accurately determine which files belong to it which would lead to only a partial uninstall.\n"
     ]
    },
    {
     "name": "stdout",
     "output_type": "stream",
     "text": [
      "\n",
      "Collecting jupyterlab-widgets~=3.0.7\n",
      "  Using cached jupyterlab_widgets-3.0.8-py3-none-any.whl (214 kB)\n",
      "Requirement already satisfied: trace-updater>=0.0.8 in c:\\users\\91978\\anaconda3\\lib\\site-packages (from plotly-resampler>=0.8.3.1->pycaret) (0.0.9.1)\n",
      "Requirement already satisfied: dash<3.0.0,>=2.11.0 in c:\\users\\91978\\anaconda3\\lib\\site-packages (from plotly-resampler>=0.8.3.1->pycaret) (2.11.1)\n",
      "Requirement already satisfied: tsdownsample==0.1.2 in c:\\users\\91978\\anaconda3\\lib\\site-packages (from plotly-resampler>=0.8.3.1->pycaret) (0.1.2)\n",
      "Requirement already satisfied: orjson<4.0.0,>=3.8.0 in c:\\users\\91978\\anaconda3\\lib\\site-packages (from plotly-resampler>=0.8.3.1->pycaret) (3.9.2)\n",
      "Requirement already satisfied: six in c:\\users\\91978\\anaconda3\\lib\\site-packages (from pyod>=1.0.8->pycaret) (1.15.0)\n",
      "Requirement already satisfied: colorama; platform_system == \"Windows\" in c:\\users\\91978\\anaconda3\\lib\\site-packages (from tqdm>=4.62.0->pycaret) (0.4.4)\n",
      "Requirement already satisfied: urllib3<1.27,>=1.21.1 in c:\\users\\91978\\anaconda3\\lib\\site-packages (from requests>=2.27.1->pycaret) (1.25.11)\n",
      "Requirement already satisfied: idna<4,>=2.5 in c:\\users\\91978\\anaconda3\\lib\\site-packages (from requests>=2.27.1->pycaret) (2.10)\n",
      "Requirement already satisfied: charset-normalizer<4,>=2 in c:\\users\\91978\\anaconda3\\lib\\site-packages (from requests>=2.27.1->pycaret) (3.0.1)\n",
      "Requirement already satisfied: pygments in c:\\users\\91978\\anaconda3\\lib\\site-packages (from ipython>=5.5.0->pycaret) (2.7.2)\n",
      "Requirement already satisfied: setuptools>=18.5 in c:\\users\\91978\\anaconda3\\lib\\site-packages (from ipython>=5.5.0->pycaret) (50.3.1.post20201107)\n",
      "Requirement already satisfied: decorator in c:\\users\\91978\\anaconda3\\lib\\site-packages (from ipython>=5.5.0->pycaret) (4.4.2)\n",
      "Requirement already satisfied: prompt-toolkit!=3.0.0,!=3.0.1,<3.1.0,>=2.0.0 in c:\\users\\91978\\anaconda3\\lib\\site-packages (from ipython>=5.5.0->pycaret) (3.0.8)\n",
      "Requirement already satisfied: pickleshare in c:\\users\\91978\\anaconda3\\lib\\site-packages (from ipython>=5.5.0->pycaret) (0.7.5)\n",
      "Requirement already satisfied: jedi>=0.10 in c:\\users\\91978\\anaconda3\\lib\\site-packages (from ipython>=5.5.0->pycaret) (0.17.1)\n",
      "Requirement already satisfied: backcall in c:\\users\\91978\\anaconda3\\lib\\site-packages (from ipython>=5.5.0->pycaret) (0.2.0)\n",
      "Requirement already satisfied: deprecated>=1.2.13 in c:\\users\\91978\\anaconda3\\lib\\site-packages (from sktime!=0.17.1,!=0.17.2,!=0.18.0,>=0.16.1->pycaret) (1.2.14)\n",
      "Requirement already satisfied: scikit-base<0.6.0 in c:\\users\\91978\\anaconda3\\lib\\site-packages (from sktime!=0.17.1,!=0.17.2,!=0.18.0,>=0.16.1->pycaret) (0.5.0)\n",
      "Requirement already satisfied: Cython!=0.29.18,!=0.29.31,>=0.29 in c:\\users\\91978\\anaconda3\\lib\\site-packages (from pmdarima!=1.8.1,<3.0.0,>=1.8.0->pycaret) (0.29.21)\n",
      "Requirement already satisfied: attrs>=17.4.0 in c:\\users\\91978\\anaconda3\\lib\\site-packages (from jsonschema!=2.5.0,>=2.4->nbformat>=4.2.0->pycaret) (20.3.0)\n",
      "Requirement already satisfied: pyrsistent>=0.14.0 in c:\\users\\91978\\anaconda3\\lib\\site-packages (from jsonschema!=2.5.0,>=2.4->nbformat>=4.2.0->pycaret) (0.17.3)\n",
      "Requirement already satisfied: pywin32>=1.0; sys_platform == \"win32\" in c:\\users\\91978\\anaconda3\\lib\\site-packages (from jupyter-core->nbformat>=4.2.0->pycaret) (227)\n",
      "Requirement already satisfied: Flask<2.3.0,>=1.0.4 in c:\\users\\91978\\anaconda3\\lib\\site-packages (from dash<3.0.0,>=2.11.0->plotly-resampler>=0.8.3.1->pycaret) (1.1.2)\n",
      "Requirement already satisfied: Werkzeug<2.3.0 in c:\\users\\91978\\anaconda3\\lib\\site-packages (from dash<3.0.0,>=2.11.0->plotly-resampler>=0.8.3.1->pycaret) (1.0.1)\n",
      "Requirement already satisfied: retrying in c:\\users\\91978\\anaconda3\\lib\\site-packages (from dash<3.0.0,>=2.11.0->plotly-resampler>=0.8.3.1->pycaret) (1.3.4)\n",
      "Requirement already satisfied: dash-table==5.0.0 in c:\\users\\91978\\anaconda3\\lib\\site-packages (from dash<3.0.0,>=2.11.0->plotly-resampler>=0.8.3.1->pycaret) (5.0.0)\n",
      "Requirement already satisfied: ansi2html in c:\\users\\91978\\anaconda3\\lib\\site-packages (from dash<3.0.0,>=2.11.0->plotly-resampler>=0.8.3.1->pycaret) (1.8.0)\n",
      "Requirement already satisfied: dash-core-components==2.0.0 in c:\\users\\91978\\anaconda3\\lib\\site-packages (from dash<3.0.0,>=2.11.0->plotly-resampler>=0.8.3.1->pycaret) (2.0.0)\n",
      "Requirement already satisfied: nest-asyncio in c:\\users\\91978\\anaconda3\\lib\\site-packages (from dash<3.0.0,>=2.11.0->plotly-resampler>=0.8.3.1->pycaret) (1.4.2)\n",
      "Requirement already satisfied: typing-extensions>=4.1.1 in c:\\users\\91978\\anaconda3\\lib\\site-packages (from dash<3.0.0,>=2.11.0->plotly-resampler>=0.8.3.1->pycaret) (4.3.0)\n",
      "Requirement already satisfied: dash-html-components==2.0.0 in c:\\users\\91978\\anaconda3\\lib\\site-packages (from dash<3.0.0,>=2.11.0->plotly-resampler>=0.8.3.1->pycaret) (2.0.0)\n",
      "Requirement already satisfied: wcwidth in c:\\users\\91978\\anaconda3\\lib\\site-packages (from prompt-toolkit!=3.0.0,!=3.0.1,<3.1.0,>=2.0.0->ipython>=5.5.0->pycaret) (0.2.5)\n",
      "Requirement already satisfied: parso<0.8.0,>=0.7.0 in c:\\users\\91978\\anaconda3\\lib\\site-packages (from jedi>=0.10->ipython>=5.5.0->pycaret) (0.7.0)\n",
      "Requirement already satisfied: wrapt<2,>=1.10 in c:\\users\\91978\\anaconda3\\lib\\site-packages (from deprecated>=1.2.13->sktime!=0.17.1,!=0.17.2,!=0.18.0,>=0.16.1->pycaret) (1.11.2)\n",
      "Requirement already satisfied: click>=5.1 in c:\\users\\91978\\anaconda3\\lib\\site-packages (from Flask<2.3.0,>=1.0.4->dash<3.0.0,>=2.11.0->plotly-resampler>=0.8.3.1->pycaret) (7.1.2)\n",
      "Requirement already satisfied: itsdangerous>=0.24 in c:\\users\\91978\\anaconda3\\lib\\site-packages (from Flask<2.3.0,>=1.0.4->dash<3.0.0,>=2.11.0->plotly-resampler>=0.8.3.1->pycaret) (1.1.0)\n",
      "Installing collected packages: schemdraw, imbalanced-learn, kaleido, llvmlite, numba, patsy, statsmodels, xxhash, comm, widgetsnbextension, jupyterlab-widgets, ipywidgets, pyod, psutil, pmdarima, tbats, category-encoders, scikit-plot, pycaret\n",
      "  Attempting uninstall: llvmlite\n",
      "    Found existing installation: llvmlite 0.34.0\n"
     ]
    }
   ],
   "source": [
    "!pip install pycaret\n"
   ]
  },
  {
   "cell_type": "code",
   "execution_count": 30,
   "metadata": {},
   "outputs": [],
   "source": [
    "import transformers\n",
    "from transformers import AutoModel, BertTokenizerFast"
   ]
  },
  {
   "cell_type": "code",
   "execution_count": 31,
   "metadata": {},
   "outputs": [
    {
     "ename": "ModuleNotFoundError",
     "evalue": "No module named 'pycaret'",
     "output_type": "error",
     "traceback": [
      "\u001b[1;31m---------------------------------------------------------------------------\u001b[0m",
      "\u001b[1;31mModuleNotFoundError\u001b[0m                       Traceback (most recent call last)",
      "\u001b[1;32m<ipython-input-31-bc14816cda88>\u001b[0m in \u001b[0;36m<module>\u001b[1;34m\u001b[0m\n\u001b[1;32m----> 1\u001b[1;33m \u001b[1;32mimport\u001b[0m \u001b[0mpycaret\u001b[0m\u001b[1;33m\u001b[0m\u001b[1;33m\u001b[0m\u001b[0m\n\u001b[0m",
      "\u001b[1;31mModuleNotFoundError\u001b[0m: No module named 'pycaret'"
     ]
    }
   ],
   "source": [
    "import pycaret"
   ]
  },
  {
   "cell_type": "code",
   "execution_count": 27,
   "metadata": {},
   "outputs": [],
   "source": [
    "from sklearn.metrics import plot_confusion_matrix\n",
    "from sklearn.model_selection import train_test_split\n",
    "from sklearn.metrics import classification_report\n",
    "import torch\n",
    "import torch.nn as nn"
   ]
  },
  {
   "cell_type": "code",
   "execution_count": 32,
   "metadata": {},
   "outputs": [
    {
     "data": {
      "application/vnd.jupyter.widget-view+json": {
       "model_id": "c4c5b0c923244833834a2fed126e9348",
       "version_major": 2,
       "version_minor": 0
      },
      "text/plain": [
       "Downloading (…)lve/main/config.json:   0%|          | 0.00/570 [00:00<?, ?B/s]"
      ]
     },
     "metadata": {},
     "output_type": "display_data"
    },
    {
     "name": "stderr",
     "output_type": "stream",
     "text": [
      "C:\\Users\\91978\\anaconda3\\lib\\site-packages\\huggingface_hub\\file_download.py:129: UserWarning: `huggingface_hub` cache-system uses symlinks by default to efficiently store duplicated files but your machine does not support them in C:\\Users\\91978\\.cache\\huggingface\\hub. Caching files will still work but in a degraded version that might require more space on your disk. This warning can be disabled by setting the `HF_HUB_DISABLE_SYMLINKS_WARNING` environment variable. For more details, see https://huggingface.co/docs/huggingface_hub/how-to-cache#limitations.\n",
      "To support symlinks on Windows, you either need to activate Developer Mode or to run Python as an administrator. In order to see activate developer mode, see this article: https://docs.microsoft.com/en-us/windows/apps/get-started/enable-your-device-for-development\n",
      "  warnings.warn(message)\n"
     ]
    },
    {
     "data": {
      "application/vnd.jupyter.widget-view+json": {
       "model_id": "36731bb7014042329c176a0bf2402e01",
       "version_major": 2,
       "version_minor": 0
      },
      "text/plain": [
       "Downloading (…)\"pytorch_model.bin\";:   0%|          | 0.00/440M [00:00<?, ?B/s]"
      ]
     },
     "metadata": {},
     "output_type": "display_data"
    },
    {
     "name": "stderr",
     "output_type": "stream",
     "text": [
      "Some weights of the model checkpoint at bert-base-uncased were not used when initializing BertModel: ['cls.seq_relationship.weight', 'cls.predictions.transform.dense.bias', 'cls.predictions.bias', 'cls.seq_relationship.bias', 'cls.predictions.decoder.weight', 'cls.predictions.transform.dense.weight', 'cls.predictions.transform.LayerNorm.bias', 'cls.predictions.transform.LayerNorm.weight']\n",
      "- This IS expected if you are initializing BertModel from the checkpoint of a model trained on another task or with another architecture (e.g. initializing a BertForSequenceClassification model from a BertForPreTraining model).\n",
      "- This IS NOT expected if you are initializing BertModel from the checkpoint of a model that you expect to be exactly identical (initializing a BertForSequenceClassification model from a BertForSequenceClassification model).\n"
     ]
    },
    {
     "data": {
      "application/vnd.jupyter.widget-view+json": {
       "model_id": "3219195677e94f5fa553919d71cbba08",
       "version_major": 2,
       "version_minor": 0
      },
      "text/plain": [
       "Downloading (…)okenizer_config.json:   0%|          | 0.00/28.0 [00:00<?, ?B/s]"
      ]
     },
     "metadata": {},
     "output_type": "display_data"
    },
    {
     "data": {
      "application/vnd.jupyter.widget-view+json": {
       "model_id": "ea323b3fbe3e48d9ad503e3784b74730",
       "version_major": 2,
       "version_minor": 0
      },
      "text/plain": [
       "Downloading (…)solve/main/vocab.txt:   0%|          | 0.00/232k [00:00<?, ?B/s]"
      ]
     },
     "metadata": {},
     "output_type": "display_data"
    },
    {
     "data": {
      "application/vnd.jupyter.widget-view+json": {
       "model_id": "f61b2ba0f15647ceb87ee75a1b275edb",
       "version_major": 2,
       "version_minor": 0
      },
      "text/plain": [
       "Downloading (…)/main/tokenizer.json:   0%|          | 0.00/466k [00:00<?, ?B/s]"
      ]
     },
     "metadata": {},
     "output_type": "display_data"
    }
   ],
   "source": [
    "bert = AutoModel.from_pretrained('bert-base-uncased')\n",
    "tokenizer = BertTokenizerFast.from_pretrained('bert-base-uncased')"
   ]
  },
  {
   "cell_type": "code",
   "execution_count": 33,
   "metadata": {},
   "outputs": [
    {
     "name": "stdout",
     "output_type": "stream",
     "text": [
      "{'input_ids': [[101, 3857, 8275, 2739, 2944, 1012, 102], [101, 2478, 14324, 1012, 102, 0, 0]], 'token_type_ids': [[0, 0, 0, 0, 0, 0, 0], [0, 0, 0, 0, 0, 0, 0]], 'attention_mask': [[1, 1, 1, 1, 1, 1, 1], [1, 1, 1, 1, 1, 0, 0]]}\n"
     ]
    }
   ],
   "source": [
    "sample_data = [\"Build fake news model.\", \"Using bert.\"] # sample data\n",
    "tokenized_sample_data = tokenizer.batch_encode_plus(sample_data,padding=True)     # encode text\n",
    "print(tokenized_sample_data)"
   ]
  },
  {
   "cell_type": "code",
   "execution_count": 34,
   "metadata": {},
   "outputs": [
    {
     "name": "stderr",
     "output_type": "stream",
     "text": [
      "C:\\Users\\91978\\anaconda3\\lib\\site-packages\\transformers\\tokenization_utils_base.py:2339: FutureWarning: The `pad_to_max_length` argument is deprecated and will be removed in a future version, use `padding=True` or `padding='longest'` to pad to the longest sequence in the batch, or use `padding='max_length'` to pad to a max length. In this case, you can give a specific length with `max_length` (e.g. `max_length=45`) or leave max_length to None to pad to the maximal input size of the model (e.g. 512 for Bert).\n",
      "  warnings.warn(\n"
     ]
    }
   ],
   "source": [
    "MAX_LENGHT = 15\n",
    "# Tokenize and encode sequences in the train set\n",
    "tokens_train = tokenizer.batch_encode_plus(\n",
    "    train_text.tolist(),\n",
    "    max_length = MAX_LENGHT,\n",
    "    pad_to_max_length=True,\n",
    "    truncation=True\n",
    ")\n",
    "# tokenize and encode sequences in the validation set\n",
    "tokens_val = tokenizer.batch_encode_plus(\n",
    "    val_text.tolist(),\n",
    "    max_length = MAX_LENGHT,\n",
    "    pad_to_max_length=True,\n",
    "    truncation=True\n",
    ")\n",
    "# tokenize and encode sequences in the test set\n",
    "tokens_test = tokenizer.batch_encode_plus(\n",
    "    test_text.tolist(),\n",
    "    max_length = MAX_LENGHT,\n",
    "    pad_to_max_length=True,\n",
    "    truncation=True\n",
    ")"
   ]
  },
  {
   "cell_type": "code",
   "execution_count": 35,
   "metadata": {},
   "outputs": [],
   "source": [
    "seq_len = [len(title.split()) for title in train_text]\n"
   ]
  },
  {
   "cell_type": "code",
   "execution_count": 36,
   "metadata": {},
   "outputs": [],
   "source": [
    "train_seq = torch.tensor(tokens_train['input_ids'])\n",
    "train_mask = torch.tensor(tokens_train['attention_mask'])\n",
    "train_y = torch.tensor(train_labels.tolist())\n",
    "\n",
    "val_seq = torch.tensor(tokens_val['input_ids'])\n",
    "val_mask = torch.tensor(tokens_val['attention_mask'])\n",
    "val_y = torch.tensor(val_labels.tolist())\n",
    "\n",
    "test_seq = torch.tensor(tokens_test['input_ids'])\n",
    "test_mask = torch.tensor(tokens_test['attention_mask'])\n",
    "test_y = torch.tensor(test_labels.tolist())"
   ]
  },
  {
   "cell_type": "code",
   "execution_count": 37,
   "metadata": {},
   "outputs": [],
   "source": [
    "from torch.utils.data import TensorDataset, DataLoader, RandomSampler, SequentialSampler\n",
    "batch_size = 32                                               #define a batch size\n",
    "\n",
    "train_data = TensorDataset(train_seq, train_mask, train_y)    # wrap tensors\n",
    "train_sampler = RandomSampler(train_data)                     # sampler for sampling the data during training\n",
    "train_dataloader = DataLoader(train_data, sampler=train_sampler, batch_size=batch_size)\n",
    "                                                              # dataLoader for train set\n",
    "val_data = TensorDataset(val_seq, val_mask, val_y)            # wrap tensors\n",
    "val_sampler = SequentialSampler(val_data)                     # sampler for sampling the data during training\n",
    "val_dataloader = DataLoader(val_data, sampler = val_sampler, batch_size=batch_size)"
   ]
  },
  {
   "cell_type": "code",
   "execution_count": 38,
   "metadata": {},
   "outputs": [],
   "source": [
    "for param in bert.parameters():\n",
    "    param.requires_grad = False    # false here means gradient need not be computed"
   ]
  },
  {
   "cell_type": "code",
   "execution_count": 39,
   "metadata": {},
   "outputs": [
    {
     "name": "stderr",
     "output_type": "stream",
     "text": [
      "C:\\Users\\91978\\anaconda3\\lib\\site-packages\\transformers\\optimization.py:306: FutureWarning: This implementation of AdamW is deprecated and will be removed in a future version. Use the PyTorch implementation torch.optim.AdamW instead, or set `no_deprecation_warning=True` to disable this warning\n",
      "  warnings.warn(\n"
     ]
    }
   ],
   "source": [
    "class BERT_Arch(nn.Module):\n",
    "    def __init__(self, bert):  \n",
    "      super(BERT_Arch, self).__init__()\n",
    "      self.bert = bert   \n",
    "      self.dropout = nn.Dropout(0.1)            # dropout layer\n",
    "      self.relu =  nn.ReLU()                    # relu activation function\n",
    "      self.fc1 = nn.Linear(768,512)             # dense layer 1\n",
    "      self.fc2 = nn.Linear(512,2)               # dense layer 2 (Output layer)\n",
    "      self.softmax = nn.LogSoftmax(dim=1)       # softmax activation function\n",
    "    def forward(self, sent_id, mask):           # define the forward pass  \n",
    "      cls_hs = self.bert(sent_id, attention_mask=mask)['pooler_output']\n",
    "                                                # pass the inputs to the model\n",
    "      x = self.fc1(cls_hs)\n",
    "      x = self.relu(x)\n",
    "      x = self.dropout(x)\n",
    "      x = self.fc2(x)                           # output layer\n",
    "      x = self.softmax(x)                       # apply softmax activation\n",
    "      return x\n",
    "\n",
    "model = BERT_Arch(bert)\n",
    "# Defining the hyperparameters (optimizer, weights of the classes and the epochs)\n",
    "# Define the optimizer\n",
    "from transformers import AdamW\n",
    "optimizer = AdamW(model.parameters(),\n",
    "                  lr = 1e-05)          # learning rate\n",
    "# Define the loss function\n",
    "cross_entropy  = nn.NLLLoss() \n",
    "# Number of training epochs\n",
    "epochs = 2"
   ]
  },
  {
   "cell_type": "code",
   "execution_count": 40,
   "metadata": {},
   "outputs": [],
   "source": [
    "\n",
    "# Defining training and evaluation functions\n",
    "def train():  \n",
    "  model.train()\n",
    "  total_loss, total_accuracy = 0, 0\n",
    "  \n",
    "  for step,batch in enumerate(train_dataloader):                # iterate over batches\n",
    "    if step % 50 == 0 and not step == 0:                        # progress update after every 50 batches.\n",
    "      print('  Batch {:>5,}  of  {:>5,}.'.format(step, len(train_dataloader)))\n",
    "    batch = [r for r in batch]                                  # push the batch to gpu\n",
    "    sent_id, mask, labels = batch \n",
    "    model.zero_grad()                                           # clear previously calculated gradients\n",
    "    preds = model(sent_id, mask)                                # get model predictions for current batch\n",
    "    loss = cross_entropy(preds, labels)                         # compute loss between actual & predicted values\n",
    "    total_loss = total_loss + loss.item()                       # add on to the total loss\n",
    "    loss.backward()                                             # backward pass to calculate the gradients\n",
    "    torch.nn.utils.clip_grad_norm_(model.parameters(), 1.0)     # clip gradients to 1.0. It helps in preventing exploding gradient problem\n",
    "    optimizer.step()                                            # update parameters\n",
    "    preds=preds.detach().cpu().numpy()                          # model predictions are stored on GPU. So, push it to CPU\n",
    "\n",
    "  avg_loss = total_loss / len(train_dataloader)                 # compute training loss of the epoch  \n",
    "                                                                # reshape predictions in form of (# samples, # classes)\n",
    "  return avg_loss                                 # returns the loss and predictions\n",
    "\n",
    "def evaluate():  \n",
    "  print(\"\\nEvaluating...\")  \n",
    "  model.eval()                                    # Deactivate dropout layers\n",
    "  total_loss, total_accuracy = 0, 0  \n",
    "  for step,batch in enumerate(val_dataloader):    # Iterate over batches  \n",
    "    if step % 50 == 0 and not step == 0:          # Progress update every 50 batches.     \n",
    "                                                  # Calculate elapsed time in minutes.\n",
    "                                                  # Elapsed = format_time(time.time() - t0)\n",
    "      print('  Batch {:>5,}  of  {:>5,}.'.format(step, len(val_dataloader)))\n",
    "                                                  # Report progress\n",
    "    batch = [t for t in batch]                    # Push the batch to GPU\n",
    "    sent_id, mask, labels = batch\n",
    "    with torch.no_grad():                         # Deactivate autograd\n",
    "      preds = model(sent_id, mask)                # Model predictions\n",
    "      loss = cross_entropy(preds,labels)          # Compute the validation loss between actual and predicted values\n",
    "      total_loss = total_loss + loss.item()\n",
    "      preds = preds.detach().cpu().numpy()\n",
    "  avg_loss = total_loss / len(val_dataloader)         # compute the validation loss of the epoch\n",
    "  return avg_loss"
   ]
  },
  {
   "cell_type": "code",
   "execution_count": 41,
   "metadata": {},
   "outputs": [
    {
     "name": "stdout",
     "output_type": "stream",
     "text": [
      "\n",
      " Epoch 1 / 2\n",
      "  Batch    50  of    983.\n",
      "  Batch   100  of    983.\n",
      "  Batch   150  of    983.\n",
      "  Batch   200  of    983.\n",
      "  Batch   250  of    983.\n",
      "  Batch   300  of    983.\n",
      "  Batch   350  of    983.\n",
      "  Batch   400  of    983.\n",
      "  Batch   450  of    983.\n",
      "  Batch   500  of    983.\n",
      "  Batch   550  of    983.\n",
      "  Batch   600  of    983.\n",
      "  Batch   650  of    983.\n",
      "  Batch   700  of    983.\n",
      "  Batch   750  of    983.\n",
      "  Batch   800  of    983.\n",
      "  Batch   850  of    983.\n",
      "  Batch   900  of    983.\n",
      "  Batch   950  of    983.\n",
      "\n",
      "Evaluating...\n",
      "  Batch    50  of    211.\n",
      "  Batch   100  of    211.\n",
      "  Batch   150  of    211.\n",
      "  Batch   200  of    211.\n",
      "\n",
      "Training Loss: 0.564\n",
      "Validation Loss: 0.493\n",
      "\n",
      " Epoch 2 / 2\n",
      "  Batch    50  of    983.\n",
      "  Batch   100  of    983.\n",
      "  Batch   150  of    983.\n",
      "  Batch   200  of    983.\n",
      "  Batch   250  of    983.\n",
      "  Batch   300  of    983.\n",
      "  Batch   350  of    983.\n",
      "  Batch   400  of    983.\n",
      "  Batch   450  of    983.\n",
      "  Batch   500  of    983.\n",
      "  Batch   550  of    983.\n",
      "  Batch   600  of    983.\n",
      "  Batch   650  of    983.\n",
      "  Batch   700  of    983.\n",
      "  Batch   750  of    983.\n",
      "  Batch   800  of    983.\n",
      "  Batch   850  of    983.\n",
      "  Batch   900  of    983.\n",
      "  Batch   950  of    983.\n",
      "\n",
      "Evaluating...\n",
      "  Batch    50  of    211.\n",
      "  Batch   100  of    211.\n",
      "  Batch   150  of    211.\n",
      "  Batch   200  of    211.\n",
      "\n",
      "Training Loss: 0.472\n",
      "Validation Loss: 0.420\n"
     ]
    }
   ],
   "source": [
    "best_valid_loss = float('inf')\n",
    "train_losses=[]                   # empty lists to store training and validation loss of each epoch\n",
    "valid_losses=[]\n",
    "\n",
    "for epoch in range(epochs):     \n",
    "    print('\\n Epoch {:} / {:}'.format(epoch + 1, epochs))     \n",
    "    train_loss = train()                       # train model\n",
    "    valid_loss = evaluate()                    # evaluate model\n",
    "    if valid_loss < best_valid_loss:              # save the best model\n",
    "        best_valid_loss = valid_loss\n",
    "        torch.save(model.state_dict(), 'c2_new_model_weights.pt')\n",
    "    train_losses.append(train_loss)               # append training and validation loss\n",
    "    valid_losses.append(valid_loss)\n",
    "    \n",
    "    print(f'\\nTraining Loss: {train_loss:.3f}')\n",
    "    print(f'Validation Loss: {valid_loss:.3f}')"
   ]
  },
  {
   "cell_type": "code",
   "execution_count": 42,
   "metadata": {},
   "outputs": [],
   "source": [
    "import numpy as np\n"
   ]
  },
  {
   "cell_type": "code",
   "execution_count": 43,
   "metadata": {},
   "outputs": [
    {
     "name": "stdout",
     "output_type": "stream",
     "text": [
      "              precision    recall  f1-score   support\n",
      "\n",
      "           0       0.75      0.92      0.83      3213\n",
      "           1       0.91      0.72      0.81      3522\n",
      "\n",
      "    accuracy                           0.82      6735\n",
      "   macro avg       0.83      0.82      0.82      6735\n",
      "weighted avg       0.84      0.82      0.82      6735\n",
      "\n"
     ]
    }
   ],
   "source": [
    "with torch.no_grad():\n",
    "  preds = model(test_seq, test_mask)\n",
    "  preds = preds.detach().cpu().numpy()\n",
    "\n",
    "preds = np.argmax(preds, axis = 1)\n",
    "print(classification_report(test_y, preds))"
   ]
  },
  {
   "cell_type": "code",
   "execution_count": 44,
   "metadata": {},
   "outputs": [
    {
     "data": {
      "text/plain": [
       "array([1, 0, 0], dtype=int64)"
      ]
     },
     "execution_count": 44,
     "metadata": {},
     "output_type": "execute_result"
    }
   ],
   "source": [
    "unseen_news_text = [\"Donald Trump Sends Out Embarrassing New Year’s Eve Message; This is Disturbing\",     # Fake\n",
    "                    \"U.S. lawmakers question businessman at 2016 Trump Tower meeting: sources\",           # True\n",
    "                    \"Trump administration issues new rules on U.S. visa waivers\"                          # True\n",
    "                    ]\n",
    "\n",
    "# tokenize and encode sequences in the test set\n",
    "MAX_LENGHT = 15\n",
    "tokens_unseen = tokenizer.batch_encode_plus(\n",
    "    unseen_news_text,\n",
    "    max_length = MAX_LENGHT,\n",
    "    pad_to_max_length=True,\n",
    "    truncation=True\n",
    ")\n",
    "\n",
    "unseen_seq = torch.tensor(tokens_unseen['input_ids'])\n",
    "unseen_mask = torch.tensor(tokens_unseen['attention_mask'])\n",
    "\n",
    "with torch.no_grad():\n",
    "  preds = model(unseen_seq, unseen_mask)\n",
    "  preds = preds.detach().cpu().numpy()\n",
    "\n",
    "preds = np.argmax(preds, axis = 1)\n",
    "preds"
   ]
  },
  {
   "cell_type": "code",
   "execution_count": null,
   "metadata": {},
   "outputs": [],
   "source": []
  }
 ],
 "metadata": {
  "kernelspec": {
   "display_name": "Python 3",
   "language": "python",
   "name": "python3"
  },
  "language_info": {
   "codemirror_mode": {
    "name": "ipython",
    "version": 3
   },
   "file_extension": ".py",
   "mimetype": "text/x-python",
   "name": "python",
   "nbconvert_exporter": "python",
   "pygments_lexer": "ipython3",
   "version": "3.8.5"
  }
 },
 "nbformat": 4,
 "nbformat_minor": 4
}
